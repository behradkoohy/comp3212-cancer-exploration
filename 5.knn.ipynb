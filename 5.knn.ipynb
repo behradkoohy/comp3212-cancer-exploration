{
 "cells": [
  {
   "cell_type": "code",
   "execution_count": 1,
   "metadata": {},
   "outputs": [],
   "source": [
    "import numpy as np\n",
    "import pandas as pd\n",
    "from sklearn.model_selection import train_test_split\n",
    "from sklearn.model_selection import cross_val_score\n",
    "import matplotlib.pyplot as plt\n",
    "from sklearn.decomposition import PCA\n",
    "from sklearn.metrics import precision_score, recall_score, roc_auc_score, roc_curve"
   ]
  },
  {
   "cell_type": "code",
   "execution_count": 2,
   "metadata": {},
   "outputs": [
    {
     "name": "stdout",
     "output_type": "stream",
     "text": [
      "1658 49554\n"
     ]
    }
   ],
   "source": [
    "def get_datasets():\n",
    "    # My python only likes absolute paths \n",
    "    brca = pd.read_csv('C:\\\\Users\\\\sohai\\\\PycharmProjects\\\\comp3212-cancer-exploration\\\\data\\\\Gistic2_CopyNumber_BRCA', sep='\\t')\n",
    "    ovca = pd.read_csv('C:\\\\Users\\sohai\\\\PycharmProjects\\\\comp3212-cancer-exploration\\\\data\\\\Gistic2_CopyNumber_OVCA', sep='\\t')\n",
    "    brca.set_index('Gene Symbol', inplace=True)\n",
    "    ovca.set_index('Gene Symbol', inplace=True)\n",
    "    brca = brca.transpose()\n",
    "    ovca = ovca.transpose()\n",
    "    brca['BRCA'] = 1\n",
    "    ovca['BRCA'] = 0\n",
    "    df = pd.concat([brca, ovca[1:]])\n",
    "    print(len(df), len(brca.transpose()-2) + len(ovca.transpose()-2))\n",
    "    return df\n",
    "df = get_datasets()"
   ]
  },
  {
   "cell_type": "code",
   "execution_count": 3,
   "metadata": {},
   "outputs": [],
   "source": [
    "y = df[\"BRCA\"]\n",
    "X = df[df.columns[:-1]]\n",
    "X_train, X_test, y_train, y_test = train_test_split( X, y, test_size=0.33, random_state=42)"
   ]
  },
  {
   "cell_type": "code",
   "execution_count": 4,
   "metadata": {},
   "outputs": [
    {
     "data": {
      "text/plain": [
       "KNeighborsClassifier(algorithm='auto', leaf_size=30, metric='minkowski',\n",
       "                     metric_params=None, n_jobs=None, n_neighbors=40, p=2,\n",
       "                     weights='uniform')"
      ]
     },
     "execution_count": 4,
     "metadata": {},
     "output_type": "execute_result"
    }
   ],
   "source": [
    "from sklearn.neighbors import KNeighborsClassifier \n",
    "from math import sqrt\n",
    "nbrs = KNeighborsClassifier(n_neighbors=int(sqrt(len(y))))\n",
    "nbrs.fit(X_train,y_train)"
   ]
  },
  {
   "cell_type": "code",
   "execution_count": 5,
   "metadata": {},
   "outputs": [
    {
     "data": {
      "text/plain": [
       "0.708029197080292"
      ]
     },
     "execution_count": 5,
     "metadata": {},
     "output_type": "execute_result"
    }
   ],
   "source": [
    "# Initial score without any tuning\n",
    "nbrs.score(X_test,y_test)"
   ]
  },
  {
   "cell_type": "code",
   "execution_count": 6,
   "metadata": {},
   "outputs": [],
   "source": [
    "# https://medium.com/@mohtedibf/in-depth-parameter-tuning-for-knn-4c0de485baf6"
   ]
  },
  {
   "cell_type": "code",
   "execution_count": 7,
   "metadata": {},
   "outputs": [
    {
     "name": "stdout",
     "output_type": "stream",
     "text": [
      "at 0.9999 % of the variance ======\n",
      "original shape:    (1658, 24776)\n",
      "transformed shape: (1658, 997)\n"
     ]
    }
   ],
   "source": [
    "# PCA to reduce dimensions\n",
    "x = 0.9999\n",
    "pca = PCA(n_components=0.99)\n",
    "pca.fit(X_train)\n",
    "X_pca = pca.transform(X)\n",
    "pca = PCA(n_components=x)\n",
    "pca.fit(X_train)\n",
    "X_pca = pca.transform(X)\n",
    "print('at', x, '% of the variance ======')\n",
    "print(\"original shape:   \", X.shape)\n",
    "print(\"transformed shape:\", X_pca.shape)\n",
    "y_red = pd.Series(y)\n",
    "\n",
    "df_redd = pd.DataFrame(X_pca)\n",
    "X_traind, X_testd, y_traind, y_testd = train_test_split(df_redd, y)\n"
   ]
  },
  {
   "cell_type": "code",
   "execution_count": 12,
   "metadata": {},
   "outputs": [
    {
     "data": {
      "text/html": [
       "<div>\n",
       "<style scoped>\n",
       "    .dataframe tbody tr th:only-of-type {\n",
       "        vertical-align: middle;\n",
       "    }\n",
       "\n",
       "    .dataframe tbody tr th {\n",
       "        vertical-align: top;\n",
       "    }\n",
       "\n",
       "    .dataframe thead th {\n",
       "        text-align: right;\n",
       "    }\n",
       "</style>\n",
       "<table border=\"1\" class=\"dataframe\">\n",
       "  <thead>\n",
       "    <tr style=\"text-align: right;\">\n",
       "      <th></th>\n",
       "      <th>0</th>\n",
       "      <th>1</th>\n",
       "      <th>2</th>\n",
       "      <th>3</th>\n",
       "      <th>4</th>\n",
       "      <th>5</th>\n",
       "      <th>6</th>\n",
       "      <th>7</th>\n",
       "      <th>8</th>\n",
       "      <th>9</th>\n",
       "      <th>...</th>\n",
       "      <th>987</th>\n",
       "      <th>988</th>\n",
       "      <th>989</th>\n",
       "      <th>990</th>\n",
       "      <th>991</th>\n",
       "      <th>992</th>\n",
       "      <th>993</th>\n",
       "      <th>994</th>\n",
       "      <th>995</th>\n",
       "      <th>996</th>\n",
       "    </tr>\n",
       "  </thead>\n",
       "  <tbody>\n",
       "    <tr>\n",
       "      <th>0</th>\n",
       "      <td>-1.790231</td>\n",
       "      <td>-9.373232</td>\n",
       "      <td>2.114552</td>\n",
       "      <td>0.790684</td>\n",
       "      <td>14.969523</td>\n",
       "      <td>1.926469</td>\n",
       "      <td>2.764007</td>\n",
       "      <td>-4.663392</td>\n",
       "      <td>-11.982148</td>\n",
       "      <td>8.458127</td>\n",
       "      <td>...</td>\n",
       "      <td>-0.001461</td>\n",
       "      <td>-0.000509</td>\n",
       "      <td>0.012397</td>\n",
       "      <td>-0.001588</td>\n",
       "      <td>-0.004177</td>\n",
       "      <td>-0.012697</td>\n",
       "      <td>0.006360</td>\n",
       "      <td>0.001503</td>\n",
       "      <td>0.006942</td>\n",
       "      <td>0.022418</td>\n",
       "    </tr>\n",
       "    <tr>\n",
       "      <th>1</th>\n",
       "      <td>-20.067478</td>\n",
       "      <td>1.136906</td>\n",
       "      <td>2.580673</td>\n",
       "      <td>-9.705372</td>\n",
       "      <td>14.715725</td>\n",
       "      <td>31.293413</td>\n",
       "      <td>28.555443</td>\n",
       "      <td>-9.019573</td>\n",
       "      <td>-7.544973</td>\n",
       "      <td>19.457374</td>\n",
       "      <td>...</td>\n",
       "      <td>-0.016779</td>\n",
       "      <td>0.010461</td>\n",
       "      <td>-0.000134</td>\n",
       "      <td>0.025357</td>\n",
       "      <td>-0.010102</td>\n",
       "      <td>-0.004454</td>\n",
       "      <td>-0.005833</td>\n",
       "      <td>0.003306</td>\n",
       "      <td>-0.008238</td>\n",
       "      <td>-0.016270</td>\n",
       "    </tr>\n",
       "    <tr>\n",
       "      <th>2</th>\n",
       "      <td>-15.232300</td>\n",
       "      <td>2.131580</td>\n",
       "      <td>17.209687</td>\n",
       "      <td>-0.748946</td>\n",
       "      <td>14.486671</td>\n",
       "      <td>10.228378</td>\n",
       "      <td>6.045745</td>\n",
       "      <td>-14.638316</td>\n",
       "      <td>-5.442889</td>\n",
       "      <td>5.225614</td>\n",
       "      <td>...</td>\n",
       "      <td>-0.001729</td>\n",
       "      <td>0.018474</td>\n",
       "      <td>0.011942</td>\n",
       "      <td>-0.005422</td>\n",
       "      <td>-0.004211</td>\n",
       "      <td>0.000204</td>\n",
       "      <td>-0.013832</td>\n",
       "      <td>-0.003325</td>\n",
       "      <td>0.012034</td>\n",
       "      <td>-0.007037</td>\n",
       "    </tr>\n",
       "    <tr>\n",
       "      <th>3</th>\n",
       "      <td>-22.026543</td>\n",
       "      <td>-10.290559</td>\n",
       "      <td>-5.471568</td>\n",
       "      <td>-3.647886</td>\n",
       "      <td>-4.992222</td>\n",
       "      <td>17.206146</td>\n",
       "      <td>21.163643</td>\n",
       "      <td>2.423320</td>\n",
       "      <td>-10.254373</td>\n",
       "      <td>0.788743</td>\n",
       "      <td>...</td>\n",
       "      <td>-0.001265</td>\n",
       "      <td>0.029363</td>\n",
       "      <td>-0.013187</td>\n",
       "      <td>-0.022293</td>\n",
       "      <td>-0.003614</td>\n",
       "      <td>-0.023411</td>\n",
       "      <td>-0.056139</td>\n",
       "      <td>-0.027434</td>\n",
       "      <td>-0.015651</td>\n",
       "      <td>0.006570</td>\n",
       "    </tr>\n",
       "    <tr>\n",
       "      <th>4</th>\n",
       "      <td>-6.987871</td>\n",
       "      <td>-8.546274</td>\n",
       "      <td>13.993947</td>\n",
       "      <td>-15.789931</td>\n",
       "      <td>-0.216049</td>\n",
       "      <td>-8.976633</td>\n",
       "      <td>11.738501</td>\n",
       "      <td>2.749087</td>\n",
       "      <td>-6.210674</td>\n",
       "      <td>-10.788096</td>\n",
       "      <td>...</td>\n",
       "      <td>-0.007936</td>\n",
       "      <td>-0.001128</td>\n",
       "      <td>0.024154</td>\n",
       "      <td>-0.059566</td>\n",
       "      <td>-0.051207</td>\n",
       "      <td>0.120207</td>\n",
       "      <td>-0.161757</td>\n",
       "      <td>0.069329</td>\n",
       "      <td>-0.017983</td>\n",
       "      <td>-0.027489</td>\n",
       "    </tr>\n",
       "    <tr>\n",
       "      <th>...</th>\n",
       "      <td>...</td>\n",
       "      <td>...</td>\n",
       "      <td>...</td>\n",
       "      <td>...</td>\n",
       "      <td>...</td>\n",
       "      <td>...</td>\n",
       "      <td>...</td>\n",
       "      <td>...</td>\n",
       "      <td>...</td>\n",
       "      <td>...</td>\n",
       "      <td>...</td>\n",
       "      <td>...</td>\n",
       "      <td>...</td>\n",
       "      <td>...</td>\n",
       "      <td>...</td>\n",
       "      <td>...</td>\n",
       "      <td>...</td>\n",
       "      <td>...</td>\n",
       "      <td>...</td>\n",
       "      <td>...</td>\n",
       "      <td>...</td>\n",
       "    </tr>\n",
       "    <tr>\n",
       "      <th>1653</th>\n",
       "      <td>28.724722</td>\n",
       "      <td>37.654531</td>\n",
       "      <td>-1.501349</td>\n",
       "      <td>13.767667</td>\n",
       "      <td>-8.379604</td>\n",
       "      <td>9.903506</td>\n",
       "      <td>-27.850821</td>\n",
       "      <td>10.478333</td>\n",
       "      <td>12.236161</td>\n",
       "      <td>22.556819</td>\n",
       "      <td>...</td>\n",
       "      <td>0.006267</td>\n",
       "      <td>-0.086378</td>\n",
       "      <td>-0.167772</td>\n",
       "      <td>0.011436</td>\n",
       "      <td>0.052565</td>\n",
       "      <td>0.046370</td>\n",
       "      <td>0.012952</td>\n",
       "      <td>-0.072832</td>\n",
       "      <td>0.116887</td>\n",
       "      <td>-0.064631</td>\n",
       "    </tr>\n",
       "    <tr>\n",
       "      <th>1654</th>\n",
       "      <td>36.223216</td>\n",
       "      <td>6.751795</td>\n",
       "      <td>-19.854170</td>\n",
       "      <td>5.819443</td>\n",
       "      <td>16.068819</td>\n",
       "      <td>0.133543</td>\n",
       "      <td>-2.553254</td>\n",
       "      <td>14.290910</td>\n",
       "      <td>-31.751576</td>\n",
       "      <td>-23.974304</td>\n",
       "      <td>...</td>\n",
       "      <td>0.032582</td>\n",
       "      <td>-0.023569</td>\n",
       "      <td>-0.044742</td>\n",
       "      <td>0.022019</td>\n",
       "      <td>0.000330</td>\n",
       "      <td>-0.053248</td>\n",
       "      <td>0.012123</td>\n",
       "      <td>-0.012220</td>\n",
       "      <td>0.024081</td>\n",
       "      <td>0.051751</td>\n",
       "    </tr>\n",
       "    <tr>\n",
       "      <th>1655</th>\n",
       "      <td>46.188260</td>\n",
       "      <td>0.577531</td>\n",
       "      <td>-15.842699</td>\n",
       "      <td>-3.009699</td>\n",
       "      <td>5.246139</td>\n",
       "      <td>6.733427</td>\n",
       "      <td>-16.487168</td>\n",
       "      <td>-9.865316</td>\n",
       "      <td>-4.341753</td>\n",
       "      <td>-5.410388</td>\n",
       "      <td>...</td>\n",
       "      <td>-0.022430</td>\n",
       "      <td>0.031891</td>\n",
       "      <td>-0.042140</td>\n",
       "      <td>0.011927</td>\n",
       "      <td>-0.003484</td>\n",
       "      <td>-0.000362</td>\n",
       "      <td>0.015204</td>\n",
       "      <td>-0.056675</td>\n",
       "      <td>-0.019811</td>\n",
       "      <td>-0.011728</td>\n",
       "    </tr>\n",
       "    <tr>\n",
       "      <th>1656</th>\n",
       "      <td>38.266788</td>\n",
       "      <td>8.610648</td>\n",
       "      <td>15.145638</td>\n",
       "      <td>7.613132</td>\n",
       "      <td>-3.919411</td>\n",
       "      <td>-14.259415</td>\n",
       "      <td>5.452016</td>\n",
       "      <td>19.827105</td>\n",
       "      <td>11.012455</td>\n",
       "      <td>-14.090400</td>\n",
       "      <td>...</td>\n",
       "      <td>0.003070</td>\n",
       "      <td>-0.009750</td>\n",
       "      <td>0.000369</td>\n",
       "      <td>-0.008479</td>\n",
       "      <td>-0.017785</td>\n",
       "      <td>-0.006839</td>\n",
       "      <td>0.010538</td>\n",
       "      <td>0.003463</td>\n",
       "      <td>-0.009685</td>\n",
       "      <td>0.001146</td>\n",
       "    </tr>\n",
       "    <tr>\n",
       "      <th>1657</th>\n",
       "      <td>31.930331</td>\n",
       "      <td>0.178160</td>\n",
       "      <td>-11.507210</td>\n",
       "      <td>-15.719244</td>\n",
       "      <td>-1.819354</td>\n",
       "      <td>11.806788</td>\n",
       "      <td>-26.506438</td>\n",
       "      <td>-3.956843</td>\n",
       "      <td>-9.589573</td>\n",
       "      <td>-19.350117</td>\n",
       "      <td>...</td>\n",
       "      <td>0.012386</td>\n",
       "      <td>0.017704</td>\n",
       "      <td>-0.015415</td>\n",
       "      <td>0.021254</td>\n",
       "      <td>-0.010263</td>\n",
       "      <td>-0.001578</td>\n",
       "      <td>0.006537</td>\n",
       "      <td>0.019530</td>\n",
       "      <td>0.012352</td>\n",
       "      <td>0.004613</td>\n",
       "    </tr>\n",
       "  </tbody>\n",
       "</table>\n",
       "<p>1658 rows × 997 columns</p>\n",
       "</div>"
      ],
      "text/plain": [
       "            0          1          2          3          4          5    \\\n",
       "0     -1.790231  -9.373232   2.114552   0.790684  14.969523   1.926469   \n",
       "1    -20.067478   1.136906   2.580673  -9.705372  14.715725  31.293413   \n",
       "2    -15.232300   2.131580  17.209687  -0.748946  14.486671  10.228378   \n",
       "3    -22.026543 -10.290559  -5.471568  -3.647886  -4.992222  17.206146   \n",
       "4     -6.987871  -8.546274  13.993947 -15.789931  -0.216049  -8.976633   \n",
       "...         ...        ...        ...        ...        ...        ...   \n",
       "1653  28.724722  37.654531  -1.501349  13.767667  -8.379604   9.903506   \n",
       "1654  36.223216   6.751795 -19.854170   5.819443  16.068819   0.133543   \n",
       "1655  46.188260   0.577531 -15.842699  -3.009699   5.246139   6.733427   \n",
       "1656  38.266788   8.610648  15.145638   7.613132  -3.919411 -14.259415   \n",
       "1657  31.930331   0.178160 -11.507210 -15.719244  -1.819354  11.806788   \n",
       "\n",
       "            6          7          8          9    ...       987       988  \\\n",
       "0      2.764007  -4.663392 -11.982148   8.458127  ... -0.001461 -0.000509   \n",
       "1     28.555443  -9.019573  -7.544973  19.457374  ... -0.016779  0.010461   \n",
       "2      6.045745 -14.638316  -5.442889   5.225614  ... -0.001729  0.018474   \n",
       "3     21.163643   2.423320 -10.254373   0.788743  ... -0.001265  0.029363   \n",
       "4     11.738501   2.749087  -6.210674 -10.788096  ... -0.007936 -0.001128   \n",
       "...         ...        ...        ...        ...  ...       ...       ...   \n",
       "1653 -27.850821  10.478333  12.236161  22.556819  ...  0.006267 -0.086378   \n",
       "1654  -2.553254  14.290910 -31.751576 -23.974304  ...  0.032582 -0.023569   \n",
       "1655 -16.487168  -9.865316  -4.341753  -5.410388  ... -0.022430  0.031891   \n",
       "1656   5.452016  19.827105  11.012455 -14.090400  ...  0.003070 -0.009750   \n",
       "1657 -26.506438  -3.956843  -9.589573 -19.350117  ...  0.012386  0.017704   \n",
       "\n",
       "           989       990       991       992       993       994       995  \\\n",
       "0     0.012397 -0.001588 -0.004177 -0.012697  0.006360  0.001503  0.006942   \n",
       "1    -0.000134  0.025357 -0.010102 -0.004454 -0.005833  0.003306 -0.008238   \n",
       "2     0.011942 -0.005422 -0.004211  0.000204 -0.013832 -0.003325  0.012034   \n",
       "3    -0.013187 -0.022293 -0.003614 -0.023411 -0.056139 -0.027434 -0.015651   \n",
       "4     0.024154 -0.059566 -0.051207  0.120207 -0.161757  0.069329 -0.017983   \n",
       "...        ...       ...       ...       ...       ...       ...       ...   \n",
       "1653 -0.167772  0.011436  0.052565  0.046370  0.012952 -0.072832  0.116887   \n",
       "1654 -0.044742  0.022019  0.000330 -0.053248  0.012123 -0.012220  0.024081   \n",
       "1655 -0.042140  0.011927 -0.003484 -0.000362  0.015204 -0.056675 -0.019811   \n",
       "1656  0.000369 -0.008479 -0.017785 -0.006839  0.010538  0.003463 -0.009685   \n",
       "1657 -0.015415  0.021254 -0.010263 -0.001578  0.006537  0.019530  0.012352   \n",
       "\n",
       "           996  \n",
       "0     0.022418  \n",
       "1    -0.016270  \n",
       "2    -0.007037  \n",
       "3     0.006570  \n",
       "4    -0.027489  \n",
       "...        ...  \n",
       "1653 -0.064631  \n",
       "1654  0.051751  \n",
       "1655 -0.011728  \n",
       "1656  0.001146  \n",
       "1657  0.004613  \n",
       "\n",
       "[1658 rows x 997 columns]"
      ]
     },
     "execution_count": 12,
     "metadata": {},
     "output_type": "execute_result"
    }
   ],
   "source": [
    "df_redd"
   ]
  },
  {
   "cell_type": "code",
   "execution_count": 13,
   "metadata": {
    "collapsed": true
   },
   "outputs": [
    {
     "name": "stdout",
     "output_type": "stream",
     "text": [
      "On 1\n",
      "On 2\n",
      "On 3\n",
      "On 4\n",
      "On 5\n",
      "On 6\n",
      "On 7\n",
      "On 8\n",
      "On 9\n",
      "On 10\n",
      "On 11\n",
      "On 12\n",
      "On 13\n",
      "On 14\n",
      "On 15\n",
      "On 16\n",
      "On 17\n",
      "On 18\n",
      "On 19\n",
      "On 20\n",
      "On 21\n",
      "On 22\n",
      "On 23\n",
      "On 24\n",
      "On 25\n",
      "On 26\n",
      "On 27\n",
      "On 28\n",
      "On 29\n",
      "On 30\n",
      "On 31\n",
      "On 32\n",
      "On 33\n",
      "On 34\n",
      "On 35\n",
      "On 36\n",
      "On 37\n",
      "On 38\n",
      "On 39\n",
      "On 40\n",
      "On 41\n",
      "On 42\n",
      "On 43\n",
      "On 44\n",
      "On 45\n",
      "On 46\n",
      "On 47\n",
      "On 48\n",
      "On 49\n",
      "On 50\n",
      "On 51\n",
      "On 52\n",
      "On 53\n",
      "On 54\n",
      "On 55\n",
      "On 56\n",
      "On 57\n",
      "On 58\n",
      "On 59\n",
      "On 60\n",
      "On 61\n",
      "On 62\n",
      "On 63\n",
      "On 64\n",
      "On 65\n",
      "On 66\n",
      "On 67\n",
      "On 68\n",
      "On 69\n",
      "On 70\n",
      "On 71\n",
      "On 72\n",
      "On 73\n",
      "On 74\n",
      "On 75\n",
      "On 76\n",
      "On 77\n",
      "On 78\n",
      "On 79\n",
      "On 80\n",
      "On 81\n",
      "On 82\n",
      "On 83\n",
      "On 84\n",
      "On 85\n",
      "On 86\n",
      "On 87\n",
      "On 88\n",
      "On 89\n",
      "On 90\n",
      "On 91\n",
      "On 92\n",
      "On 93\n",
      "On 94\n",
      "On 95\n",
      "On 96\n",
      "On 97\n",
      "On 98\n",
      "On 99\n",
      "[0.8498138006571742, 0.8799707922599488, 0.8263052208835342, 0.8510514786418402, 0.8112340270171595, 0.827524644030668, 0.7985578678349763, 0.8094231471339904, 0.7858999634903249, 0.7961555312157722, 0.776246805403432, 0.7840890836071559, 0.7665936473165388, 0.7738408178167215, 0.7581599123767797, 0.7666082511865645, 0.7515261044176708, 0.7581672143117927, 0.7448922964585615, 0.7491164658634538, 0.7400620664476085, 0.7442862358525009, 0.7340416210295728, 0.7388608981380067, 0.7316210295728368, 0.7358488499452356, 0.7292077400511136, 0.7328294998174515, 0.7261883899233297, 0.7292040890836071, 0.7213654618473895, 0.7249799196787149, 0.7165425337714495, 0.7189521723256663, 0.7141255932822198, 0.7171412924424974, 0.7141219423147134, 0.7141219423147134, 0.7092917123037605, 0.7105001825483752, 0.7062723621759767, 0.7074808324205915, 0.7056736035049288, 0.7080868930266521, 0.7026542533771449, 0.7038590726542534, 0.7026542533771449, 0.7038590726542534, 0.6996312522818546, 0.7026506024096385, 0.6990361445783133, 0.6996422051843739, 0.6966192040890836, 0.6984300839722526, 0.6954107338444688, 0.696013143483023, 0.6954107338444688, 0.6966155531215772, 0.693001095290252, 0.6966155531215772, 0.6929974443227455, 0.6942059145673604, 0.6911902154070828, 0.6911902154070828, 0.6899853961299744, 0.6905878057685285, 0.6887769258853595, 0.6899853961299744, 0.6881708652792989, 0.6881708652792989, 0.6851515151515152, 0.6869623950346841, 0.6845491055129609, 0.6857539247900694, 0.6827418765972982, 0.6851551661190215, 0.6821394669587441, 0.6827418765972982, 0.6797298284045272, 0.6797298284045272, 0.6779189485213581, 0.6791237677984666, 0.677316538882804, 0.6779189485213581, 0.6773128879152976, 0.6779152975538517, 0.6755020080321286, 0.6755020080321286, 0.674895947426068, 0.674895947426068, 0.6742935377875139, 0.674895947426068, 0.6736911281489595, 0.6742935377875139, 0.6718838992332969, 0.6718838992332969, 0.6694706097115735, 0.6718838992332969, 0.6700730193501279]\n"
     ]
    }
   ],
   "source": [
    "# search for an optimal value of K for KNN\n",
    "k_range = range(1, 100)\n",
    "k_scores = []\n",
    "# Loop through reasonable values of k\n",
    "for k in k_range:\n",
    "    print(\"On\", k)\n",
    "    knn = KNeighborsClassifier(n_neighbors=k)\n",
    "    scores = cross_val_score(knn,df_redd,y_red,cv=10,scoring='accuracy')\n",
    "    k_scores.append(scores.mean())\n",
    "print(k_scores)"
   ]
  },
  {
   "cell_type": "code",
   "execution_count": 14,
   "metadata": {},
   "outputs": [
    {
     "data": {
      "text/plain": [
       "Text(0, 0.5, 'Score Accuracy')"
      ]
     },
     "execution_count": 14,
     "metadata": {},
     "output_type": "execute_result"
    },
    {
     "data": {
      "image/png": "[encoded data removed]",
      "text/plain": [
       "<Figure size 432x288 with 1 Axes>"
      ]
     },
     "metadata": {
      "needs_background": "light"
     },
     "output_type": "display_data"
    }
   ],
   "source": [
    "k_range = range(1, 100)\n",
    "plt.plot(k_range, k_scores)\n",
    "plt.xlabel('Value of K for KNN')\n",
    "plt.ylabel('Score Accuracy')"
   ]
  },
  {
   "cell_type": "code",
   "execution_count": 8,
   "metadata": {
    "collapsed": true
   },
   "outputs": [
    {
     "name": "stdout",
     "output_type": "stream",
     "text": [
      "On 1\n",
      "On 2\n",
      "On 3\n",
      "On 4\n",
      "On 5\n",
      "On 6\n",
      "On 7\n",
      "On 8\n",
      "On 9\n",
      "On 10\n",
      "[0.6797590361445783, 0.8799707922599488, 0.898678349762687, 0.9312449799196788, 0.9216064257028114, 0.9342606790799561, 0.9258342460752098, 0.9384884994523548, 0.9294487039065352, 0.9348703906535232]\n"
     ]
    }
   ],
   "source": [
    "distances = [1, 2, 3, 4, 5, 6, 7, 8 ,9 ,10]\n",
    "best = 25\n",
    "# search for an optimal value of p for KNN\n",
    "# list of scores from k_range\n",
    "k_scores_p = []\n",
    "\n",
    "for k in distances:\n",
    "    print(\"On\", k)\n",
    "    knn = KNeighborsClassifier(n_neighbors=k, p = k)\n",
    "    scores = cross_val_score(knn,df_redd,y_red,cv=10,scoring='accuracy')\n",
    "    k_scores_p.append(scores.mean())\n",
    "    \n",
    "print(k_scores_p)"
   ]
  },
  {
   "cell_type": "code",
   "execution_count": 9,
   "metadata": {},
   "outputs": [
    {
     "data": {
      "text/plain": [
       "Text(0, 0.5, 'Cross-Validated Accuracy')"
      ]
     },
     "execution_count": 9,
     "metadata": {},
     "output_type": "execute_result"
    },
    {
     "data": {
      "image/png": "[encoded data removed]",
      "text/plain": [
       "<Figure size 432x288 with 1 Axes>"
      ]
     },
     "metadata": {
      "needs_background": "light"
     },
     "output_type": "display_data"
    }
   ],
   "source": [
    "plt.plot(distances, k_scores_p)\n",
    "plt.xlabel('Value of p for KNN')\n",
    "plt.ylabel('Cross-Validated Accuracy')"
   ]
  },
  {
   "cell_type": "code",
   "execution_count": 13,
   "metadata": {},
   "outputs": [
    {
     "data": {
      "text/plain": [
       "0.908433734939759"
      ]
     },
     "execution_count": 13,
     "metadata": {},
     "output_type": "execute_result"
    }
   ],
   "source": [
    "# Updated value after changes\n",
    "nbrs2= KNeighborsClassifier(n_neighbors=int(25), p=8)\n",
    "nbrs2.fit(X_traind,y_traind)\n",
    "nbrs2.score(X_testd,y_testd)"
   ]
  },
  {
   "cell_type": "code",
   "execution_count": 16,
   "metadata": {},
   "outputs": [],
   "source": [
    "from sklearn.metrics import confusion_matrix\n",
    "import itertools\n",
    "X_train, X_test, y_train, y_test = train_test_split(df_redd, y)\n",
    "\n",
    "def plot_confusion_matrix(cm, classes,\n",
    "                          normalize=False,\n",
    "                          title='Confusion matrix',\n",
    "                          cmap=plt.cm.Oranges):\n",
    "    \"\"\"\n",
    "    This function prints and plots the confusion matrix.\n",
    "    Normalization can be applied by setting `normalize=True`.\n",
    "    Source: http://scikit-learn.org/stable/auto_examples/model_selection/plot_confusion_matrix.html\n",
    "    \"\"\"\n",
    "    if normalize:\n",
    "        cm = cm.astype('float') / cm.sum(axis=1)[:, np.newaxis]\n",
    "        print(\"Normalized confusion matrix\")\n",
    "    else:\n",
    "        print('Confusion matrix, without normalization')\n",
    "\n",
    "    print(cm)\n",
    "\n",
    "    plt.figure(figsize = (10, 10))\n",
    "    plt.imshow(cm, interpolation='nearest', cmap=cmap)\n",
    "    plt.title(title, size = 24)\n",
    "    plt.colorbar(aspect=4)\n",
    "    tick_marks = np.arange(len(classes))\n",
    "    plt.xticks(tick_marks, classes, rotation=45, size = 14)\n",
    "    plt.yticks(tick_marks, classes, size = 14)\n",
    "\n",
    "    fmt = '.2f' if normalize else 'd'\n",
    "    thresh = cm.max() / 2.\n",
    "    \n",
    "    # Labeling the plot\n",
    "    for i, j in itertools.product(range(cm.shape[0]), range(cm.shape[1])):\n",
    "        plt.text(j, i, format(cm[i, j], fmt), fontsize = 20,\n",
    "                 horizontalalignment=\"center\",\n",
    "                 color=\"white\" if cm[i, j] > thresh else \"black\")\n",
    "        \n",
    "    plt.grid(None)\n",
    "    plt.tight_layout()\n",
    "    plt.ylabel('True label', size = 18)\n",
    "    plt.xlabel('Predicted label', size = 18)"
   ]
  },
  {
   "cell_type": "code",
   "execution_count": 15,
   "metadata": {},
   "outputs": [],
   "source": [
    "def evaluate_model(predictions, probs, train_predictions, train_probs):\n",
    "    \"\"\"Compare machine learning model to baseline performance.\n",
    "    Computes statistics and shows ROC curve.\"\"\"\n",
    "    \n",
    "    baseline = {}\n",
    "    \n",
    "    baseline['recall'] = recall_score(y_test, [1 for _ in range(len(y_test))])\n",
    "    baseline['precision'] = precision_score(y_test, [1 for _ in range(len(y_test))])\n",
    "    baseline['roc'] = 0.5\n",
    "    \n",
    "    results = {}\n",
    "    \n",
    "    results['recall'] = recall_score(y_test, predictions)\n",
    "    results['precision'] = precision_score(y_test, predictions)\n",
    "    results['roc'] = roc_auc_score(y_test, probs)\n",
    "    \n",
    "    train_results = {}\n",
    "    train_results['recall'] = recall_score(y_train, train_predictions)\n",
    "    train_results['precision'] = precision_score(y_train, train_predictions)\n",
    "    train_results['roc'] = roc_auc_score(y_train, train_probs)\n",
    "    \n",
    "    for metric in ['recall', 'precision', 'roc']:\n",
    "        print(f'{metric.capitalize()} Baseline: {round(baseline[metric], 2)} Test: {round(results[metric], 2)} Train: {round(train_results[metric], 2)}')\n",
    "    \n",
    "    # Calculate false positive rates and true positive rates\n",
    "    base_fpr, base_tpr, _ = roc_curve(y_test, [1 for _ in range(len(y_test))])\n",
    "    model_fpr, model_tpr, _ = roc_curve(y_test, probs)\n",
    "\n",
    "    plt.figure(figsize = (8, 6))\n",
    "    plt.rcParams['font.size'] = 16\n",
    "    \n",
    "    # Plot both curves\n",
    "    plt.plot(base_fpr, base_tpr, 'b', label = 'baseline')\n",
    "    plt.plot(model_fpr, model_tpr, 'r', label = 'model')\n",
    "    plt.legend();\n",
    "    plt.xlabel('False Positive Rate'); plt.ylabel('True Positive Rate'); plt.title('ROC Curves');"
   ]
  },
  {
   "cell_type": "code",
   "execution_count": 18,
   "metadata": {},
   "outputs": [],
   "source": [
    "train_rf_predictions = nbrs2.predict(X_train)\n",
    "train_rf_probs = nbrs2.predict_proba(X_train)[:, 1]\n",
    "\n",
    "rf_predictions = nbrs2.predict(X_test)\n",
    "rf_probs = nbrs2.predict_proba(X_test)[:, 1]"
   ]
  },
  {
   "cell_type": "code",
   "execution_count": 21,
   "metadata": {},
   "outputs": [
    {
     "name": "stdout",
     "output_type": "stream",
     "text": [
      "Recall Baseline: 1.0 Test: 0.98 Train: 0.99\n",
      "Precision Baseline: 0.7 Test: 0.91 Train: 0.88\n",
      "Roc Baseline: 0.5 Test: 0.98 Train: 0.99\n"
     ]
    },
    {
     "data": {
      "image/png": "[encoded data removed]",
      "text/plain": [
       "<Figure size 576x432 with 1 Axes>"
      ]
     },
     "metadata": {
      "needs_background": "light"
     },
     "output_type": "display_data"
    }
   ],
   "source": [
    "evaluate_model(rf_predictions, rf_probs, train_rf_predictions, train_rf_probs)"
   ]
  },
  {
   "cell_type": "code",
   "execution_count": 22,
   "metadata": {},
   "outputs": [
    {
     "name": "stdout",
     "output_type": "stream",
     "text": [
      "Confusion matrix, without normalization\n",
      "[[ 98  27]\n",
      " [  5 285]]\n"
     ]
    },
    {
     "data": {
      "image/png": "[encoded data removed]",
      "text/plain": [
       "<Figure size 720x720 with 2 Axes>"
      ]
     },
     "metadata": {
      "needs_background": "light"
     },
     "output_type": "display_data"
    }
   ],
   "source": [
    "cm = confusion_matrix(y_test, rf_predictions)\n",
    "plot_confusion_matrix(cm, classes = ['No BRCA', 'BRCA'],\n",
    "                      title = 'Cancer Confusion Matrix')"
   ]
  },
  {
   "cell_type": "code",
   "execution_count": null,
   "metadata": {},
   "outputs": [],
   "source": []
  }
 ],
 "metadata": {
  "kernelspec": {
   "display_name": "Python 3",
   "language": "python",
   "name": "python3"
  },
  "language_info": {
   "codemirror_mode": {
    "name": "ipython",
    "version": 3
   },
   "file_extension": ".py",
   "mimetype": "text/x-python",
   "name": "python",
   "nbconvert_exporter": "python",
   "pygments_lexer": "ipython3",
   "version": "3.7.1"
  }
 },
 "nbformat": 4,
 "nbformat_minor": 4
}
