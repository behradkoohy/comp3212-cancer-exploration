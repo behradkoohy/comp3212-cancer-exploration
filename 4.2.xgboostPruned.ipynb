{
 "cells": [
  {
   "cell_type": "code",
   "execution_count": 1,
   "metadata": {},
   "outputs": [],
   "source": [
    "import numpy as np \n",
    "import pandas as pd\n",
    "import matplotlib.pyplot as plt \n",
    "import xgboost as xgb \n",
    "from sklearn.metrics import mean_squared_error\n",
    "from sklearn.metrics import accuracy_score\n",
    "from sklearn.metrics import precision_score, recall_score, roc_auc_score, roc_curve\n",
    "from sklearn.metrics import accuracy_score\n",
    "from sklearn.decomposition import PCA\n",
    "\n",
    "#https://www.datacamp.com/community/tutorials/xgboost-in-python \n",
    "#tutorial above to help create the model "
   ]
  },
  {
   "cell_type": "code",
   "execution_count": 2,
   "metadata": {},
   "outputs": [
    {
     "name": "stdout",
     "output_type": "stream",
     "text": [
      "size brca, ovca 1080 579\n",
      "normal size 1659\n"
     ]
    },
    {
     "name": "stderr",
     "output_type": "stream",
     "text": [
      "/Users/danielraad/anaconda3/lib/python3.7/site-packages/ipykernel_launcher.py:14: FutureWarning: Sorting because non-concatenation axis is not aligned. A future version\n",
      "of pandas will change to not sort by default.\n",
      "\n",
      "To accept the future behavior, pass 'sort=False'.\n",
      "\n",
      "To retain the current behavior and silence the warning, pass 'sort=True'.\n",
      "\n",
      "  \n"
     ]
    }
   ],
   "source": [
    "def get_datasets(std_size=False):\n",
    "    # My python only likes absolute paths \n",
    "    brca = pd.read_csv('/Users/danielraad/Desktop/data/Gistic2_CopyNumber_BRCA', sep='\\t')\n",
    "    ovca = pd.read_csv('/Users/danielraad/Desktop/data/Gistic2_CopyNumber_OVCA', sep='\\t')\n",
    "    brca.set_index('Gene Symbol', inplace=True)\n",
    "    ovca.set_index('Gene Symbol', inplace=True)\n",
    "    brca = brca.transpose()\n",
    "    ovca = ovca.transpose()\n",
    "    brca['BRCA'] = 1\n",
    "    ovca['BRCA'] = 0\n",
    "    print('size brca, ovca', len(brca), len(ovca))\n",
    "    if not std_size:\n",
    "        print('normal size', len(brca)+len(ovca))\n",
    "        df = pd.concat([brca, ovca[1:]])\n",
    "    elif std_size:\n",
    "        print('sampled size', len(ovca)+len(ovca))\n",
    "        df = pd.concat([brca[0:len(ovca)], ovca[1:]])\n",
    "    return df\n",
    "df = get_datasets()"
   ]
  },
  {
   "cell_type": "code",
   "execution_count": 3,
   "metadata": {},
   "outputs": [],
   "source": [
    "#seperate the target variable from the other variables\n",
    "from sklearn.model_selection import train_test_split\n",
    "X = df.drop(['BRCA'], axis = 1)\n",
    "y = df['BRCA']\n",
    "X_train, X_test, y_train, y_tests = train_test_split(X, y, test_size = 0.33)\n",
    "y_red = pd.Series(y)\n",
    "features = list(X_train.columns)"
   ]
  },
  {
   "cell_type": "code",
   "execution_count": 4,
   "metadata": {},
   "outputs": [
    {
     "name": "stdout",
     "output_type": "stream",
     "text": [
      "100%|██████████| 20/20 [16:50<00:00, 35.20s/trial, best loss: 0.227029]           \n"
     ]
    }
   ],
   "source": [
    "import hyperopt as hp \n",
    "from hyperopt import Trials,fmin,STATUS_OK\n",
    "\n",
    "\n",
    "### Step 1 : defining the objective function\n",
    "def objective(params, n_folds=3):\n",
    "\n",
    "# Converting pandas dataframe into xgboost format\n",
    "    d_train = xgb.DMatrix(data=X, label=y)  \n",
    "\n",
    "# Running cross validation on your xgboost model\n",
    "    cv_results = xgb.cv(params, d_train, nfold = n_folds, num_boost_round = 500, \n",
    "                        early_stopping_rounds = 25, metrics = 'rmse', seed = 0)\n",
    "  \n",
    "# returns the loss on validation set\n",
    "    loss = min(cv_results['test-rmse-mean'])\n",
    "    return loss\n",
    "\n",
    "\n",
    "### step 2 : defining the search space\n",
    "xgb_space = {\n",
    "#    max_depth : maximum depth allowed for every tree\n",
    "# hp.choice.choice will select 1 value from the given list\n",
    "    'max_depth':hp.hp.choice('max_depth', np.arange(6, 14,1, dtype=int)),\n",
    "#    subsample : maximum allowed rows for every tree\n",
    "    'subsample':hp.hp.quniform('subsample',0.5,1.0,0.05),\n",
    "#    colsample_bytree : maximum allowed features for every tree\n",
    "# hp.hp.quniform returns a float between a given range\n",
    "    'colsample_bytree':hp.hp.quniform('colsample_bytree',0.5,1.0,0.05),\n",
    "#    min_child-weight : minimum number of instances required in each node\n",
    "    'min_child_weight':hp.hp.quniform('min_child_weight', 100, 1000,100),\n",
    "#    reg_alpha : L1 regularisation term on weights\n",
    "    'reg_alpha': hp.hp.uniform('reg_alpha', 0.0, 1.0),\n",
    "#    reg_lambda : L2 regularisation term on weights\n",
    "    'reg_lambda': hp.hp.uniform('reg_lambda', 0.0, 1.0)}\n",
    "    \n",
    "    \n",
    "### step 3 : storing the results of every iteration    \n",
    "bayes_trials = Trials()\n",
    "MAX_EVALS = 20\n",
    "\n",
    "# Optimize\n",
    "best = fmin(fn = objective, space = xgb_space, algo = hp.tpe.suggest, \n",
    "max_evals = MAX_EVALS, trials = bayes_trials)\n",
    "\n",
    "### best will the return the the best hyperparameter set"
   ]
  },
  {
   "cell_type": "code",
   "execution_count": 5,
   "metadata": {},
   "outputs": [
    {
     "name": "stdout",
     "output_type": "stream",
     "text": [
      "{'colsample_bytree': 0.55, 'max_depth': 2, 'min_child_weight': 100.0, 'reg_alpha': 0.07675346261208471, 'reg_lambda': 0.8148727138018221, 'subsample': 0.9}\n"
     ]
    }
   ],
   "source": [
    "print(best)"
   ]
  },
  {
   "cell_type": "code",
   "execution_count": 6,
   "metadata": {},
   "outputs": [],
   "source": [
    "#Creating the Classification model, running \n",
    "xg_class = xgb.XGBClassifier(colsample_bytree = 0.55, max_depth = 2, min_child_weight = 100, reg_alpha = 0.07675346261208471, reg_lambda = 0.8148727138018221, subsample = 0.9  )\n",
    "xg_class.fit(X_train,y_train)\n",
    "\n",
    "train_xg_predictions = xg_class.predict(X_train)\n",
    "train_xg_probs       = xg_class.predict_proba(X_train)[:, 1]\n",
    "\n",
    "xg_predictions = xg_class.predict(X_test)\n",
    "xg_probs       = xg_class.predict_proba(X_test)[:, 1]"
   ]
  },
  {
   "cell_type": "code",
   "execution_count": 7,
   "metadata": {},
   "outputs": [
    {
     "name": "stdout",
     "output_type": "stream",
     "text": [
      "0.9860825118656443\n"
     ]
    }
   ],
   "source": [
    "from sklearn.model_selection import cross_val_score\n",
    "y_red = pd.Series(y)\n",
    "scores = cross_val_score(xg_class,df,y_red,cv=10,scoring='accuracy')\n",
    "print(scores.mean())"
   ]
  },
  {
   "cell_type": "code",
   "execution_count": 9,
   "metadata": {},
   "outputs": [
    {
     "data": {
      "image/png": "[encoded data removed]",
      "text/plain": [
       "<Figure size 432x288 with 1 Axes>"
      ]
     },
     "metadata": {
      "needs_background": "light"
     },
     "output_type": "display_data"
    }
   ],
   "source": [
    "from xgboost import plot_importance\n",
    "plot_importance(xg_class)\n",
    "plt.show()"
   ]
  },
  {
   "cell_type": "code",
   "execution_count": 10,
   "metadata": {},
   "outputs": [],
   "source": [
    "from sklearn.metrics import confusion_matrix\n",
    "import itertools\n",
    "\n",
    "def plot_confusion_matrix(cm, classes,\n",
    "                          normalize=False,\n",
    "                          title='Confusion matrix',\n",
    "                          cmap=plt.cm.Oranges):\n",
    "    \"\"\"\n",
    "    This function prints and plots the confusion matrix.\n",
    "    Normalization can be applied by setting `normalize=True`.\n",
    "    Source: http://scikit-learn.org/stable/auto_examples/model_selection/plot_confusion_matrix.html\n",
    "    \"\"\"\n",
    "    if normalize:\n",
    "        cm = cm.astype('float') / cm.sum(axis=1)[:, np.newaxis]\n",
    "        print(\"Normalized confusion matrix\")\n",
    "    else:\n",
    "        print('Confusion matrix, without normalization')\n",
    "\n",
    "    print(cm)\n",
    "\n",
    "    plt.figure(figsize = (10, 10))\n",
    "    plt.imshow(cm, interpolation='nearest', cmap=cmap)\n",
    "    plt.title(title, size = 24)\n",
    "    plt.colorbar(aspect=4)\n",
    "    tick_marks = np.arange(len(classes))\n",
    "    plt.xticks(tick_marks, classes, rotation=45, size = 14)\n",
    "    plt.yticks(tick_marks, classes, size = 14)\n",
    "\n",
    "    fmt = '.2f' if normalize else 'd'\n",
    "    thresh = cm.max() / 2.\n",
    "    \n",
    "    # Labeling the plot\n",
    "    for i, j in itertools.product(range(cm.shape[0]), range(cm.shape[1])):\n",
    "        plt.text(j, i, format(cm[i, j], fmt), fontsize = 20,\n",
    "                 horizontalalignment=\"center\",\n",
    "                 color=\"white\" if cm[i, j] > thresh else \"black\")\n",
    "        \n",
    "    plt.grid(None)\n",
    "    plt.tight_layout()\n",
    "    plt.ylabel('True label', size = 18)\n",
    "    plt.xlabel('Predicted label', size = 18)"
   ]
  },
  {
   "cell_type": "code",
   "execution_count": 11,
   "metadata": {},
   "outputs": [
    {
     "name": "stdout",
     "output_type": "stream",
     "text": [
      "Confusion matrix, without normalization\n",
      "[[150  49]\n",
      " [ 16 333]]\n"
     ]
    },
    {
     "data": {
      "image/png": "[encoded data removed]",
      "text/plain": [
       "<Figure size 720x720 with 2 Axes>"
      ]
     },
     "metadata": {
      "needs_background": "light"
     },
     "output_type": "display_data"
    }
   ],
   "source": [
    "cm = confusion_matrix(y_tests, xg_predictions)\n",
    "plot_confusion_matrix(cm, classes = ['No BRCA', 'BRCA'],\n",
    "                      title = 'Cancer Confusion Matrix')"
   ]
  },
  {
   "cell_type": "code",
   "execution_count": 12,
   "metadata": {},
   "outputs": [],
   "source": [
    "def evaluate_model(predictions, probs, train_predictions, train_probs):\n",
    "    \"\"\"Compare machine learning model to baseline performance.\n",
    "    Computes statistics and shows ROC curve.\"\"\"\n",
    "    \n",
    "    baseline = {}\n",
    "    \n",
    "    baseline['recall'] = recall_score(y_tests, [1 for _ in range(len(y_tests))])\n",
    "    baseline['precision'] = precision_score(y_tests, [1 for _ in range(len(y_tests))])\n",
    "    baseline['roc'] = 0.5\n",
    "    \n",
    "    results = {}\n",
    "    \n",
    "    results['recall'] = recall_score(y_tests, predictions)\n",
    "    results['precision'] = precision_score(y_tests, predictions)\n",
    "    results['roc'] = roc_auc_score(y_tests, probs)\n",
    "    \n",
    "    train_results = {}\n",
    "    train_results['recall'] = recall_score(y_train, train_predictions)\n",
    "    train_results['precision'] = precision_score(y_train, train_predictions)\n",
    "    train_results['roc'] = roc_auc_score(y_train, train_probs)\n",
    "    \n",
    "    for metric in ['recall', 'precision', 'roc']:\n",
    "        print(f'{metric.capitalize()} Baseline: {round(baseline[metric], 2)} Test: {round(results[metric], 2)} Train: {round(train_results[metric], 2)}')\n",
    "    \n",
    "    # Calculate false positive rates and true positive rates\n",
    "    base_fpr, base_tpr, _ = roc_curve(y_tests, [1 for _ in range(len(y_tests))])\n",
    "    model_fpr, model_tpr, _ = roc_curve(y_tests, probs)\n",
    "\n",
    "    plt.figure(figsize = (8, 6))\n",
    "    plt.rcParams['font.size'] = 16\n",
    "    \n",
    "    # Plot both curves\n",
    "    plt.plot(base_fpr, base_tpr, 'b', label = 'baseline')\n",
    "    plt.plot(model_fpr, model_tpr, 'r', label = 'model')\n",
    "    plt.legend();\n",
    "    plt.xlabel('False Positive Rate'); plt.ylabel('True Positive Rate'); plt.title('ROC Curves');"
   ]
  },
  {
   "cell_type": "code",
   "execution_count": 13,
   "metadata": {},
   "outputs": [
    {
     "name": "stdout",
     "output_type": "stream",
     "text": [
      "Recall Baseline: 1.0 Test: 0.95 Train: 0.93\n",
      "Precision Baseline: 0.64 Test: 0.87 Train: 0.88\n",
      "Roc Baseline: 0.5 Test: 0.94 Train: 0.93\n"
     ]
    },
    {
     "data": {
      "image/png": "[encoded data removed]",
      "text/plain": [
       "<Figure size 576x432 with 1 Axes>"
      ]
     },
     "metadata": {
      "needs_background": "light"
     },
     "output_type": "display_data"
    }
   ],
   "source": [
    "evaluate_model(xg_predictions, xg_probs, train_xg_predictions, train_xg_probs)"
   ]
  },
  {
   "cell_type": "code",
   "execution_count": 14,
   "metadata": {},
   "outputs": [
    {
     "name": "stdout",
     "output_type": "stream",
     "text": [
      "Accuracy: 88.14%\n"
     ]
    }
   ],
   "source": [
    "accuracy = accuracy_score(y_tests, xg_predictions)\n",
    "print(\"Accuracy: %.2f%%\" % (accuracy * 100.0))"
   ]
  }
 ],
 "metadata": {
  "kernelspec": {
   "display_name": "Python 3",
   "language": "python",
   "name": "python3"
  },
  "language_info": {
   "codemirror_mode": {
    "name": "ipython",
    "version": 3
   },
   "file_extension": ".py",
   "mimetype": "text/x-python",
   "name": "python",
   "nbconvert_exporter": "python",
   "pygments_lexer": "ipython3",
   "version": "3.7.3"
  }
 },
 "nbformat": 4,
 "nbformat_minor": 2
}
