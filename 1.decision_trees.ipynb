{
 "cells": [
  {
   "cell_type": "code",
   "execution_count": 2,
   "metadata": {},
   "outputs": [],
   "source": [
    "from sklearn import tree\n",
    "import numpy as np\n",
    "import pandas as pd\n",
    "from sklearn.model_selection import train_test_split\n",
    "from scipy.stats import randint\n",
    "from sklearn.model_selection import RandomizedSearchCV\n",
    "from scipy.stats import randint\n",
    "from sklearn import tree\n",
    "from sklearn.decomposition import PCA\n",
    "import matplotlib.pyplot as plt\n",
    "from sklearn.metrics import precision_score, recall_score, roc_auc_score, roc_curve"
   ]
  },
  {
   "cell_type": "code",
   "execution_count": 3,
   "metadata": {
    "scrolled": false
   },
   "outputs": [
    {
     "name": "stdout",
     "output_type": "stream",
     "text": [
      "1658 49554\n"
     ]
    }
   ],
   "source": [
    "def get_datasets():\n",
    "    # My python only likes absolute paths \n",
    "    brca = pd.read_csv('C:\\\\Users\\\\sohai\\\\PycharmProjects\\\\comp3212-cancer-exploration\\\\data\\\\Gistic2_CopyNumber_BRCA', sep='\\t')\n",
    "    ovca = pd.read_csv('C:\\\\Users\\sohai\\\\PycharmProjects\\\\comp3212-cancer-exploration\\\\data\\\\Gistic2_CopyNumber_OVCA', sep='\\t')\n",
    "    brca.set_index('Gene Symbol', inplace=True)\n",
    "    ovca.set_index('Gene Symbol', inplace=True)\n",
    "    brca = brca.transpose()\n",
    "    ovca = ovca.transpose()\n",
    "    brca['BRCA'] = 1\n",
    "    ovca['BRCA'] = 0\n",
    "    df = pd.concat([brca, ovca[1:]])\n",
    "    print(len(df), len(brca.transpose()-2) + len(ovca.transpose()-2))\n",
    "    return df\n",
    "df = get_datasets()"
   ]
  },
  {
   "cell_type": "code",
   "execution_count": 4,
   "metadata": {},
   "outputs": [],
   "source": [
    "import matplotlib.pyplot as plt\n",
    "from scipy.stats import randint\n",
    "from sklearn.model_selection import RandomizedSearchCV\n",
    "from sklearn.preprocessing import StandardScaler"
   ]
  },
  {
   "cell_type": "code",
   "execution_count": 5,
   "metadata": {},
   "outputs": [],
   "source": [
    "y = df[\"BRCA\"]\n",
    "X = df[df.columns[:-1]]\n",
    "X_train, X_test, y_train, y_test = train_test_split( X, y, test_size=0.33, random_state=42)"
   ]
  },
  {
   "cell_type": "code",
   "execution_count": null,
   "metadata": {
    "scrolled": true
   },
   "outputs": [],
   "source": [
    "# Hyper parameter tuning \n",
    "\n",
    "sc = StandardScaler()\n",
    "X_train = sc.fit_transform(X_train)\n",
    "X_test = sc.transform(X_test)\n",
    "\n",
    "\n",
    "param_dist = {\"max_depth\": [3,None],\n",
    "             \"min_samples_leaf\": randint(1,9),\n",
    "             \"criterion\": [\"gini\",\"entropy\"],\n",
    "             }\n",
    "\n",
    "t = tree.DecisionTreeClassifier()\n",
    "# Cross validation is at 5 now\n",
    "tree_cv = RandomizedSearchCV(t,param_dist,cv=5)\n",
    "tree_cv.fit(X_train,y_train)\n",
    "\n",
    "print(\"Tuned Decision tree params: {}\".format(tree_cv.best_params_))\n",
    "print(\"Best score is {}\".format(tree_cv.best_score_))"
   ]
  },
  {
   "cell_type": "code",
   "execution_count": 6,
   "metadata": {},
   "outputs": [
    {
     "name": "stdout",
     "output_type": "stream",
     "text": [
      "0.8868613138686131\n"
     ]
    },
    {
     "data": {
      "text/plain": [
       "[Text(167.4, 190.26, 'X[20721] <= -0.316\\nentropy = 0.934\\nsamples = 1110\\nvalue = [388, 722]'),\n",
       " Text(83.7, 135.9, 'X[19345] <= -0.486\\nentropy = 0.847\\nsamples = 420\\nvalue = [305, 115]'),\n",
       " Text(41.85, 81.53999999999999, 'X[4628] <= -0.576\\nentropy = 0.352\\nsamples = 226\\nvalue = [211, 15]'),\n",
       " Text(20.925, 27.180000000000007, 'entropy = 0.811\\nsamples = 44\\nvalue = [33, 11]'),\n",
       " Text(62.775000000000006, 27.180000000000007, 'entropy = 0.152\\nsamples = 182\\nvalue = [178, 4]'),\n",
       " Text(125.55000000000001, 81.53999999999999, 'X[5212] <= 0.68\\nentropy = 0.999\\nsamples = 194\\nvalue = [94, 100]'),\n",
       " Text(104.625, 27.180000000000007, 'entropy = 0.851\\nsamples = 123\\nvalue = [34, 89]'),\n",
       " Text(146.475, 27.180000000000007, 'entropy = 0.622\\nsamples = 71\\nvalue = [60, 11]'),\n",
       " Text(251.10000000000002, 135.9, 'X[5215] <= 0.866\\nentropy = 0.53\\nsamples = 690\\nvalue = [83, 607]'),\n",
       " Text(209.25, 81.53999999999999, 'X[22083] <= -0.424\\nentropy = 0.316\\nsamples = 613\\nvalue = [35, 578]'),\n",
       " Text(188.32500000000002, 27.180000000000007, 'entropy = 0.959\\nsamples = 21\\nvalue = [13, 8]'),\n",
       " Text(230.175, 27.180000000000007, 'entropy = 0.229\\nsamples = 592\\nvalue = [22, 570]'),\n",
       " Text(292.95, 81.53999999999999, 'X[23670] <= -0.665\\nentropy = 0.956\\nsamples = 77\\nvalue = [48, 29]'),\n",
       " Text(272.02500000000003, 27.180000000000007, 'entropy = 0.0\\nsamples = 27\\nvalue = [27, 0]'),\n",
       " Text(313.875, 27.180000000000007, 'entropy = 0.981\\nsamples = 50\\nvalue = [21, 29]')]"
      ]
     },
     "execution_count": 6,
     "metadata": {},
     "output_type": "execute_result"
    },
    {
     "data": {
      "image/png": "[encoded data removed]",
      "text/plain": [
       "<Figure size 432x288 with 1 Axes>"
      ]
     },
     "metadata": {
      "needs_background": "light"
     },
     "output_type": "display_data"
    }
   ],
   "source": [
    "# Making the decision tree no PCA\n",
    "from sklearn import tree\n",
    "clf = tree.DecisionTreeClassifier(criterion = 'entropy', max_depth = 3, min_samples_leaf = 2)\n",
    "X_train = pd.DataFrame(X_train, columns=df.columns[ :len(df.columns)-1])\n",
    "\n",
    "clf = clf.fit(X_train,y_train)\n",
    "print(clf.score(X_test,y_test))\n",
    "tree.plot_tree(clf)"
   ]
  },
  {
   "cell_type": "code",
   "execution_count": 13,
   "metadata": {},
   "outputs": [
    {
     "data": {
      "text/html": [
       "<div>\n",
       "<style scoped>\n",
       "    .dataframe tbody tr th:only-of-type {\n",
       "        vertical-align: middle;\n",
       "    }\n",
       "\n",
       "    .dataframe tbody tr th {\n",
       "        vertical-align: top;\n",
       "    }\n",
       "\n",
       "    .dataframe thead th {\n",
       "        text-align: right;\n",
       "    }\n",
       "</style>\n",
       "<table border=\"1\" class=\"dataframe\">\n",
       "  <thead>\n",
       "    <tr style=\"text-align: right;\">\n",
       "      <th></th>\n",
       "      <th>feature</th>\n",
       "      <th>importance</th>\n",
       "    </tr>\n",
       "  </thead>\n",
       "  <tbody>\n",
       "    <tr>\n",
       "      <th>20721</th>\n",
       "      <td>PIAS4</td>\n",
       "      <td>0.508385</td>\n",
       "    </tr>\n",
       "    <tr>\n",
       "      <th>5215</th>\n",
       "      <td>ACTRT3</td>\n",
       "      <td>0.159307</td>\n",
       "    </tr>\n",
       "    <tr>\n",
       "      <th>19345</th>\n",
       "      <td>RHBDL3</td>\n",
       "      <td>0.132758</td>\n",
       "    </tr>\n",
       "    <tr>\n",
       "      <th>5212</th>\n",
       "      <td>EGFEM1P</td>\n",
       "      <td>0.072801</td>\n",
       "    </tr>\n",
       "    <tr>\n",
       "      <th>22083</th>\n",
       "      <td>U2AF2</td>\n",
       "      <td>0.061061</td>\n",
       "    </tr>\n",
       "    <tr>\n",
       "      <th>23651</th>\n",
       "      <td>FAM19A5</td>\n",
       "      <td>0.039577</td>\n",
       "    </tr>\n",
       "    <tr>\n",
       "      <th>4628</th>\n",
       "      <td>PXK</td>\n",
       "      <td>0.026111</td>\n",
       "    </tr>\n",
       "    <tr>\n",
       "      <th>16515</th>\n",
       "      <td>DACT1</td>\n",
       "      <td>0.000000</td>\n",
       "    </tr>\n",
       "    <tr>\n",
       "      <th>16523</th>\n",
       "      <td>LRRC9</td>\n",
       "      <td>0.000000</td>\n",
       "    </tr>\n",
       "    <tr>\n",
       "      <th>16522</th>\n",
       "      <td>MIR5586</td>\n",
       "      <td>0.000000</td>\n",
       "    </tr>\n",
       "  </tbody>\n",
       "</table>\n",
       "</div>"
      ],
      "text/plain": [
       "       feature  importance\n",
       "20721    PIAS4    0.508385\n",
       "5215    ACTRT3    0.159307\n",
       "19345   RHBDL3    0.132758\n",
       "5212   EGFEM1P    0.072801\n",
       "22083    U2AF2    0.061061\n",
       "23651  FAM19A5    0.039577\n",
       "4628       PXK    0.026111\n",
       "16515    DACT1    0.000000\n",
       "16523    LRRC9    0.000000\n",
       "16522  MIR5586    0.000000"
      ]
     },
     "execution_count": 13,
     "metadata": {},
     "output_type": "execute_result"
    }
   ],
   "source": [
    "# Important features \n",
    "features = list(X_train.columns)\n",
    "fi_model = pd.DataFrame({'feature': features,\n",
    "                   'importance': clf.feature_importances_}).\\\n",
    "                    sort_values('importance', ascending = False)\n",
    "fi_model.head(10)"
   ]
  },
  {
   "cell_type": "code",
   "execution_count": 8,
   "metadata": {},
   "outputs": [
    {
     "name": "stdout",
     "output_type": "stream",
     "text": [
      "at 0.9999 % of the variance ======\n",
      "original shape:    (1658, 24776)\n",
      "transformed shape: (1658, 997)\n",
      "0.9614457831325302\n"
     ]
    },
    {
     "data": {
      "text/plain": [
       "[Text(167.4, 190.26, 'X[0] <= 7.162\\nentropy = 0.936\\nsamples = 1243\\nvalue = [438, 805]'),\n",
       " Text(83.7, 135.9, 'X[0] <= -5.834\\nentropy = 0.306\\nsamples = 806\\nvalue = [44, 762]'),\n",
       " Text(41.85, 81.53999999999999, 'X[10] <= 10.271\\nentropy = 0.117\\nsamples = 569\\nvalue = [9, 560]'),\n",
       " Text(20.925, 27.180000000000007, 'entropy = 0.036\\nsamples = 529\\nvalue = [2, 527]'),\n",
       " Text(62.775000000000006, 27.180000000000007, 'entropy = 0.669\\nsamples = 40\\nvalue = [7, 33]'),\n",
       " Text(125.55000000000001, 81.53999999999999, 'X[7] <= 5.209\\nentropy = 0.604\\nsamples = 237\\nvalue = [35, 202]'),\n",
       " Text(104.625, 27.180000000000007, 'entropy = 0.39\\nsamples = 209\\nvalue = [16, 193]'),\n",
       " Text(146.475, 27.180000000000007, 'entropy = 0.906\\nsamples = 28\\nvalue = [19, 9]'),\n",
       " Text(251.10000000000002, 135.9, 'X[7] <= -9.536\\nentropy = 0.464\\nsamples = 437\\nvalue = [394, 43]'),\n",
       " Text(209.25, 81.53999999999999, 'X[4] <= -0.915\\nentropy = 0.987\\nsamples = 76\\nvalue = [43, 33]'),\n",
       " Text(188.32500000000002, 27.180000000000007, 'entropy = 0.742\\nsamples = 38\\nvalue = [8, 30]'),\n",
       " Text(230.175, 27.180000000000007, 'entropy = 0.398\\nsamples = 38\\nvalue = [35, 3]'),\n",
       " Text(292.95, 81.53999999999999, 'X[4] <= -1.781\\nentropy = 0.183\\nsamples = 361\\nvalue = [351, 10]'),\n",
       " Text(272.02500000000003, 27.180000000000007, 'entropy = 0.359\\nsamples = 147\\nvalue = [137, 10]'),\n",
       " Text(313.875, 27.180000000000007, 'entropy = 0.0\\nsamples = 214\\nvalue = [214, 0]')]"
      ]
     },
     "execution_count": 8,
     "metadata": {},
     "output_type": "execute_result"
    },
    {
     "data": {
      "image/png": "[encoded data removed]",
      "text/plain": [
       "<Figure size 432x288 with 1 Axes>"
      ]
     },
     "metadata": {
      "needs_background": "light"
     },
     "output_type": "display_data"
    }
   ],
   "source": [
    "# PCA and train now\n",
    "x = 0.9999\n",
    "pca = PCA(n_components=0.99)\n",
    "pca.fit(X_train)\n",
    "X_pca = pca.transform(X)\n",
    "pca = PCA(n_components=x)\n",
    "pca.fit(X_train)\n",
    "X_pca = pca.transform(X)\n",
    "print('at', x, '% of the variance ======')\n",
    "print(\"original shape:   \", X.shape)\n",
    "print(\"transformed shape:\", X_pca.shape)\n",
    "y_red = pd.Series(y)\n",
    "\n",
    "df_redd = pd.DataFrame(X_pca)\n",
    "clf = tree.DecisionTreeClassifier(criterion = 'entropy', max_depth = 3, min_samples_leaf = 2)\n",
    "X_traind, X_testd, y_traind, y_testd = train_test_split(df_redd, y)\n",
    "\n",
    "clf.fit(X_traind,y_traind)\n",
    "print(clf.score(X_testd,y_testd))\n",
    "tree.plot_tree(clf)"
   ]
  },
  {
   "cell_type": "code",
   "execution_count": 9,
   "metadata": {},
   "outputs": [],
   "source": [
    "from sklearn.metrics import confusion_matrix\n",
    "import itertools\n",
    "\n",
    "# Making the new split given the PCA\n",
    "X_train, X_test, y_train, y_test = train_test_split(df_redd, y)\n",
    "\n",
    "def plot_confusion_matrix(cm, classes,\n",
    "                          normalize=False,\n",
    "                          title='Confusion matrix',\n",
    "                          cmap=plt.cm.Oranges):\n",
    "    \"\"\"\n",
    "    This function prints and plots the confusion matrix.\n",
    "    Normalization can be applied by setting `normalize=True`.\n",
    "    Source: http://scikit-learn.org/stable/auto_examples/model_selection/plot_confusion_matrix.html\n",
    "    \"\"\"\n",
    "    if normalize:\n",
    "        cm = cm.astype('float') / cm.sum(axis=1)[:, np.newaxis]\n",
    "        print(\"Normalized confusion matrix\")\n",
    "    else:\n",
    "        print('Confusion matrix, without normalization')\n",
    "\n",
    "    print(cm)\n",
    "\n",
    "    plt.figure(figsize = (10, 10))\n",
    "    plt.imshow(cm, interpolation='nearest', cmap=cmap)\n",
    "    plt.title(title, size = 24)\n",
    "    plt.colorbar(aspect=4)\n",
    "    tick_marks = np.arange(len(classes))\n",
    "    plt.xticks(tick_marks, classes, rotation=45, size = 14)\n",
    "    plt.yticks(tick_marks, classes, size = 14)\n",
    "\n",
    "    fmt = '.2f' if normalize else 'd'\n",
    "    thresh = cm.max() / 2.\n",
    "    \n",
    "    # Labeling the plot\n",
    "    for i, j in itertools.product(range(cm.shape[0]), range(cm.shape[1])):\n",
    "        plt.text(j, i, format(cm[i, j], fmt), fontsize = 20,\n",
    "                 horizontalalignment=\"center\",\n",
    "                 color=\"white\" if cm[i, j] > thresh else \"black\")\n",
    "        \n",
    "    plt.grid(None)\n",
    "    plt.tight_layout()\n",
    "    plt.ylabel('True label', size = 18)\n",
    "    plt.xlabel('Predicted label', size = 18)"
   ]
  },
  {
   "cell_type": "code",
   "execution_count": 10,
   "metadata": {},
   "outputs": [],
   "source": [
    "def evaluate_model(predictions, probs, train_predictions, train_probs):\n",
    "    \"\"\"Compare machine learning model to baseline performance.\n",
    "    Computes statistics and shows ROC curve.\"\"\"\n",
    "    \n",
    "    baseline = {}\n",
    "    \n",
    "    baseline['recall'] = recall_score(y_test, [1 for _ in range(len(y_test))])\n",
    "    baseline['precision'] = precision_score(y_test, [1 for _ in range(len(y_test))])\n",
    "    baseline['roc'] = 0.5\n",
    "    \n",
    "    results = {}\n",
    "    \n",
    "    results['recall'] = recall_score(y_test, predictions)\n",
    "    results['precision'] = precision_score(y_test, predictions)\n",
    "    results['roc'] = roc_auc_score(y_test, probs)\n",
    "    \n",
    "    train_results = {}\n",
    "    train_results['recall'] = recall_score(y_train, train_predictions)\n",
    "    train_results['precision'] = precision_score(y_train, train_predictions)\n",
    "    train_results['roc'] = roc_auc_score(y_train, train_probs)\n",
    "    \n",
    "    for metric in ['recall', 'precision', 'roc']:\n",
    "        print(f'{metric.capitalize()} Baseline: {round(baseline[metric], 2)} Test: {round(results[metric], 2)} Train: {round(train_results[metric], 2)}')\n",
    "    \n",
    "    # Calculate false positive rates and true positive rates\n",
    "    base_fpr, base_tpr, _ = roc_curve(y_test, [1 for _ in range(len(y_test))])\n",
    "    model_fpr, model_tpr, _ = roc_curve(y_test, probs)\n",
    "\n",
    "    plt.figure(figsize = (8, 6))\n",
    "    plt.rcParams['font.size'] = 16\n",
    "    \n",
    "    # Plot both curves\n",
    "    plt.plot(base_fpr, base_tpr, 'b', label = 'baseline')\n",
    "    plt.plot(model_fpr, model_tpr, 'r', label = 'model')\n",
    "    plt.legend();\n",
    "    plt.xlabel('False Positive Rate'); plt.ylabel('True Positive Rate'); plt.title('ROC Curves');"
   ]
  },
  {
   "cell_type": "code",
   "execution_count": 17,
   "metadata": {},
   "outputs": [],
   "source": [
    "train_rf_predictions = clf.predict(X_train)\n",
    "train_rf_probs = clf.predict_proba(X_train)[:, 1]\n",
    "\n",
    "rf_predictions = clf.predict(X_test)\n",
    "rf_probs = clf.predict_proba(X_test)[:, 1]"
   ]
  },
  {
   "cell_type": "code",
   "execution_count": 18,
   "metadata": {},
   "outputs": [
    {
     "name": "stdout",
     "output_type": "stream",
     "text": [
      "Recall Baseline: 1.0 Test: 0.98 Train: 0.97\n",
      "Precision Baseline: 0.64 Test: 0.97 Train: 0.96\n",
      "Roc Baseline: 0.5 Test: 0.98 Train: 0.98\n"
     ]
    },
    {
     "data": {
      "image/png": "[encoded data removed]",
      "text/plain": [
       "<Figure size 576x432 with 1 Axes>"
      ]
     },
     "metadata": {
      "needs_background": "light"
     },
     "output_type": "display_data"
    }
   ],
   "source": [
    "evaluate_model(rf_predictions, rf_probs, train_rf_predictions, train_rf_probs)\n"
   ]
  },
  {
   "cell_type": "code",
   "execution_count": 19,
   "metadata": {},
   "outputs": [
    {
     "name": "stdout",
     "output_type": "stream",
     "text": [
      "Confusion matrix, without normalization\n",
      "[[143   7]\n",
      " [  6 259]]\n"
     ]
    },
    {
     "data": {
      "image/png": "[encoded data removed]",
      "text/plain": [
       "<Figure size 720x720 with 2 Axes>"
      ]
     },
     "metadata": {
      "needs_background": "light"
     },
     "output_type": "display_data"
    }
   ],
   "source": [
    "cm = confusion_matrix(y_test, rf_predictions)\n",
    "plot_confusion_matrix(cm, classes = ['No BRCA', 'BRCA'],\n",
    "                      title = 'Cancer Confusion Matrix')"
   ]
  },
  {
   "cell_type": "code",
   "execution_count": 11,
   "metadata": {},
   "outputs": [
    {
     "data": {
      "text/html": [
       "<div>\n",
       "<style scoped>\n",
       "    .dataframe tbody tr th:only-of-type {\n",
       "        vertical-align: middle;\n",
       "    }\n",
       "\n",
       "    .dataframe tbody tr th {\n",
       "        vertical-align: top;\n",
       "    }\n",
       "\n",
       "    .dataframe thead th {\n",
       "        text-align: right;\n",
       "    }\n",
       "</style>\n",
       "<table border=\"1\" class=\"dataframe\">\n",
       "  <thead>\n",
       "    <tr style=\"text-align: right;\">\n",
       "      <th></th>\n",
       "      <th>feature</th>\n",
       "      <th>importance</th>\n",
       "    </tr>\n",
       "  </thead>\n",
       "  <tbody>\n",
       "    <tr>\n",
       "      <th>0</th>\n",
       "      <td>0</td>\n",
       "      <td>0.820831</td>\n",
       "    </tr>\n",
       "    <tr>\n",
       "      <th>7</th>\n",
       "      <td>7</td>\n",
       "      <td>0.107102</td>\n",
       "    </tr>\n",
       "    <tr>\n",
       "      <th>4</th>\n",
       "      <td>4</td>\n",
       "      <td>0.049130</td>\n",
       "    </tr>\n",
       "    <tr>\n",
       "      <th>10</th>\n",
       "      <td>10</td>\n",
       "      <td>0.022937</td>\n",
       "    </tr>\n",
       "    <tr>\n",
       "      <th>668</th>\n",
       "      <td>668</td>\n",
       "      <td>0.000000</td>\n",
       "    </tr>\n",
       "    <tr>\n",
       "      <th>667</th>\n",
       "      <td>667</td>\n",
       "      <td>0.000000</td>\n",
       "    </tr>\n",
       "    <tr>\n",
       "      <th>666</th>\n",
       "      <td>666</td>\n",
       "      <td>0.000000</td>\n",
       "    </tr>\n",
       "    <tr>\n",
       "      <th>665</th>\n",
       "      <td>665</td>\n",
       "      <td>0.000000</td>\n",
       "    </tr>\n",
       "    <tr>\n",
       "      <th>664</th>\n",
       "      <td>664</td>\n",
       "      <td>0.000000</td>\n",
       "    </tr>\n",
       "    <tr>\n",
       "      <th>663</th>\n",
       "      <td>663</td>\n",
       "      <td>0.000000</td>\n",
       "    </tr>\n",
       "  </tbody>\n",
       "</table>\n",
       "</div>"
      ],
      "text/plain": [
       "     feature  importance\n",
       "0          0    0.820831\n",
       "7          7    0.107102\n",
       "4          4    0.049130\n",
       "10        10    0.022937\n",
       "668      668    0.000000\n",
       "667      667    0.000000\n",
       "666      666    0.000000\n",
       "665      665    0.000000\n",
       "664      664    0.000000\n",
       "663      663    0.000000"
      ]
     },
     "execution_count": 11,
     "metadata": {},
     "output_type": "execute_result"
    }
   ],
   "source": [
    "features = list(X_traind.columns)\n",
    "fi_model = pd.DataFrame({'feature': X_traind.columns,\n",
    "                   'importance': clf.feature_importances_}).\\\n",
    "                    sort_values('importance', ascending = False)\n",
    "fi_model.head(10)"
   ]
  },
  {
   "cell_type": "code",
   "execution_count": null,
   "metadata": {},
   "outputs": [],
   "source": []
  }
 ],
 "metadata": {
  "kernelspec": {
   "display_name": "Python 3",
   "language": "python",
   "name": "python3"
  },
  "language_info": {
   "codemirror_mode": {
    "name": "ipython",
    "version": 3
   },
   "file_extension": ".py",
   "mimetype": "text/x-python",
   "name": "python",
   "nbconvert_exporter": "python",
   "pygments_lexer": "ipython3",
   "version": "3.7.1"
  }
 },
 "nbformat": 4,
 "nbformat_minor": 1
}
